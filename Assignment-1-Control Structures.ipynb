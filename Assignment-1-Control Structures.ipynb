{
 "cells": [
  {
   "cell_type": "code",
   "execution_count": 9,
   "id": "9532660f-e5bf-47ac-bc5a-250336b1ef59",
   "metadata": {
    "tags": []
   },
   "outputs": [
    {
     "name": "stdout",
     "output_type": "stream",
     "text": [
      "Add : 40\n"
     ]
    }
   ],
   "source": [
    "# Welcome to Assignment-1\n",
    "\n",
    "num1=10\n",
    "num2=30\n",
    "print(\"Add :\",num1+num2)\n"
   ]
  },
  {
   "cell_type": "code",
   "execution_count": 22,
   "id": "d812b316-bb10-420f-b9a8-1f819926c410",
   "metadata": {
    "tags": []
   },
   "outputs": [
    {
     "name": "stdin",
     "output_type": "stream",
     "text": [
      "Enter the BMI Index 34\n"
     ]
    },
    {
     "name": "stdout",
     "output_type": "stream",
     "text": [
      "Very Overweight\n"
     ]
    }
   ],
   "source": [
    "#Body Mass Index\n",
    "\n",
    "bmi=float(input(\"Enter the BMI Index\"))\n",
    "if(bmi<=18.4):\n",
    "    print(\"Underweight\")\n",
    "elif(bmi<=24.9):\n",
    "    print (\"Normal\")\n",
    "elif(bmi<=39.9):\n",
    "    print (\"Very Overweight\")\n",
    "else:\n",
    "    print (\"Obese\")\n",
    "\n"
   ]
  }
 ],
 "metadata": {
  "kernelspec": {
   "display_name": "Python 3 (ipykernel)",
   "language": "python",
   "name": "python3"
  },
  "language_info": {
   "codemirror_mode": {
    "name": "ipython",
    "version": 3
   },
   "file_extension": ".py",
   "mimetype": "text/x-python",
   "name": "python",
   "nbconvert_exporter": "python",
   "pygments_lexer": "ipython3",
   "version": "3.11.5"
  }
 },
 "nbformat": 4,
 "nbformat_minor": 5
}
