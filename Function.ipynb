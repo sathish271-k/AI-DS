{
 "cells": [
  {
   "cell_type": "code",
   "execution_count": 2,
   "id": "74d75fcd",
   "metadata": {},
   "outputs": [],
   "source": [
    "# python\n",
    "def function_name(parameters):\n",
    "    # function body\n",
    "    return value\n",
    "\n",
    "#example\n",
    "def add_numbers(x, y):\n",
    "    return x + y\n",
    "\n",
    "#To call this function and print the result"
   ]
  },
  {
   "cell_type": "code",
   "execution_count": null,
   "id": "d687d183",
   "metadata": {},
   "outputs": [],
   "source": []
  },
  {
   "cell_type": "code",
   "execution_count": null,
   "id": "32516695",
   "metadata": {},
   "outputs": [],
   "source": []
  }
 ],
 "metadata": {
  "kernelspec": {
   "display_name": "Python 3 (ipykernel)",
   "language": "python",
   "name": "python3"
  },
  "language_info": {
   "codemirror_mode": {
    "name": "ipython",
    "version": 3
   },
   "file_extension": ".py",
   "mimetype": "text/x-python",
   "name": "python",
   "nbconvert_exporter": "python",
   "pygments_lexer": "ipython3",
   "version": "3.11.5"
  }
 },
 "nbformat": 4,
 "nbformat_minor": 5
}
