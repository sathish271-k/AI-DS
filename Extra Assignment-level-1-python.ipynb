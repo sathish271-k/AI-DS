{
 "cells": [
  {
   "cell_type": "code",
   "execution_count": 10,
   "id": "ef51f5a8-9240-44bc-aa9d-5e1af0cf0da0",
   "metadata": {
    "tags": []
   },
   "outputs": [
    {
     "name": "stdout",
     "output_type": "stream",
     "text": [
      "HOPE AI\n"
     ]
    }
   ],
   "source": [
    "#print Statement\n",
    "print('HOPE AI')"
   ]
  },
  {
   "cell_type": "code",
   "execution_count": 11,
   "id": "8ef569c5-f415-46aa-81fd-bd57721250cb",
   "metadata": {
    "tags": []
   },
   "outputs": [
    {
     "name": "stdin",
     "output_type": "stream",
     "text": [
      "Enter your institute name? : HOPE AI\n"
     ]
    },
    {
     "data": {
      "text/plain": [
       "'HOPE AI'"
      ]
     },
     "execution_count": 11,
     "metadata": {},
     "output_type": "execute_result"
    }
   ],
   "source": [
    "# Buy input\n",
    "input(\"Enter your institute name? :\")"
   ]
  },
  {
   "cell_type": "code",
   "execution_count": 31,
   "id": "f03032f0-46d6-49a9-a44f-7a31f5b1d347",
   "metadata": {
    "tags": []
   },
   "outputs": [
    {
     "name": "stdin",
     "output_type": "stream",
     "text": [
      "Enter your name : Raj\n",
      "Enter your age: 15\n",
      "Enter your school name: Guru school\n",
      "Enter your drgree: B.E CSE\n"
     ]
    },
    {
     "name": "stdout",
     "output_type": "stream",
     "text": [
      "\n"
     ]
    }
   ],
   "source": [
    "#Buy inputs\n",
    "input(\"Enter your name :\")\n",
    "int(input(\"Enter your age:\"))\n",
    "input(\"Enter your school name:\")\n",
    "input(\"Enter your drgree:\")\n",
    "print()"
   ]
  },
  {
   "cell_type": "code",
   "execution_count": 21,
   "id": "a6369320-2dce-49ab-abbb-787a5452c06c",
   "metadata": {
    "tags": []
   },
   "outputs": [
    {
     "name": "stdout",
     "output_type": "stream",
     "text": [
      "add = 77\n"
     ]
    }
   ],
   "source": [
    "#Addition\n",
    "a= 43\n",
    "b= 34\n",
    "print(\"add =\",a+b)"
   ]
  },
  {
   "cell_type": "code",
   "execution_count": 22,
   "id": "4bd79a42-caba-4c44-9ccb-d875a4d1900a",
   "metadata": {
    "tags": []
   },
   "outputs": [
    {
     "name": "stdout",
     "output_type": "stream",
     "text": [
      "Sub = 9\n"
     ]
    }
   ],
   "source": [
    "#Subtraction\n",
    "a= 43\n",
    "b= 34\n",
    "print(\"Sub =\",a-b)"
   ]
  },
  {
   "cell_type": "code",
   "execution_count": 23,
   "id": "6c285048-7533-468a-88a5-47db3f6f768d",
   "metadata": {
    "tags": []
   },
   "outputs": [
    {
     "name": "stdout",
     "output_type": "stream",
     "text": [
      "Mul = 6111\n"
     ]
    }
   ],
   "source": [
    "#Multiplication,\n",
    "a= 63\n",
    "b= 97\n",
    "print(\"Mul =\",a*b)\n"
   ]
  },
  {
   "cell_type": "code",
   "execution_count": 24,
   "id": "5a52690b-eea1-4054-b577-897945be1086",
   "metadata": {
    "tags": []
   },
   "outputs": [
    {
     "name": "stdout",
     "output_type": "stream",
     "text": [
      "Float Div = 2.4516129032258065\n"
     ]
    }
   ],
   "source": [
    "#Division\n",
    "a= 76\n",
    "b= 31\n",
    "print(\"Float Div =\",f\"{a/b}\")"
   ]
  },
  {
   "cell_type": "code",
   "execution_count": 25,
   "id": "460c372f-3d97-46cd-89c9-f5194b2feea2",
   "metadata": {
    "tags": []
   },
   "outputs": [
    {
     "name": "stdout",
     "output_type": "stream",
     "text": [
      "Floor Div = 2\n"
     ]
    }
   ],
   "source": [
    "#Floor division\n",
    "a= 76\n",
    "b= 31\n",
    "print(\"Floor Div =\",f\"{a/b:.0f}\")"
   ]
  },
  {
   "cell_type": "code",
   "execution_count": 28,
   "id": "75c780b8-77c5-478e-96e7-3d3502490325",
   "metadata": {
    "tags": []
   },
   "outputs": [
    {
     "name": "stdout",
     "output_type": "stream",
     "text": [
      "Modulo =  14\n"
     ]
    }
   ],
   "source": [
    "#Modulo\n",
    "\n",
    "a= 76\n",
    "b= 31\n",
    "print(\"Modulo = \",a%b)"
   ]
  },
  {
   "cell_type": "code",
   "execution_count": 30,
   "id": "2c5b9ea4-a125-4307-bafb-5114e019f1b6",
   "metadata": {
    "tags": []
   },
   "outputs": [
    {
     "name": "stdout",
     "output_type": "stream",
     "text": [
      "Power =  256\n"
     ]
    }
   ],
   "source": [
    "#Power\n",
    "a= 4\n",
    "b= 4\n",
    "print(\"Power = \",a**b)"
   ]
  }
 ],
 "metadata": {
  "kernelspec": {
   "display_name": "Python 3 (ipykernel)",
   "language": "python",
   "name": "python3"
  },
  "language_info": {
   "codemirror_mode": {
    "name": "ipython",
    "version": 3
   },
   "file_extension": ".py",
   "mimetype": "text/x-python",
   "name": "python",
   "nbconvert_exporter": "python",
   "pygments_lexer": "ipython3",
   "version": "3.11.5"
  }
 },
 "nbformat": 4,
 "nbformat_minor": 5
}
